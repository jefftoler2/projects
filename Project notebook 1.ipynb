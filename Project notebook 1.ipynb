{
 "cells": [
  {
   "cell_type": "code",
   "execution_count": 2,
   "metadata": {},
   "outputs": [],
   "source": [
    "import pandas as pd\n",
    "import numpy as np\n",
    "from pandas.tseries.holiday import USFederalHolidayCalendar as calendar"
   ]
  },
  {
   "cell_type": "markdown",
   "metadata": {},
   "source": [
    "# Utils "
   ]
  },
  {
   "cell_type": "code",
   "execution_count": 48,
   "metadata": {},
   "outputs": [],
   "source": [
    "def change_label(x):\n",
    "    if x == \"Long\":\n",
    "        return 1\n",
    "    else:\n",
    "        return 0"
   ]
  },
  {
   "cell_type": "code",
   "execution_count": 3,
   "metadata": {},
   "outputs": [],
   "source": [
    "def clean_data(df):\n",
    "    df = df[df[\"Date\"].dt.weekday < 5].reset_index(drop = True)\n",
    "    df.set_index(\"Date\", inplace = True, drop = True)\n",
    "    df = df.between_time(\"9:00\", \"16:00\")\n",
    "    df.reset_index(inplace = True)\n",
    "    holidays = calendar().holidays(start = \"1998-01-02\",end = \"2020-12-31\") \n",
    "    mask = df[\"Date\"].isin(holidays)\n",
    "    newdf = df[~mask].copy()\n",
    "    newdf = newdf.fillna(method = \"ffill\")\n",
    "    return newdf"
   ]
  },
  {
   "cell_type": "code",
   "execution_count": 4,
   "metadata": {},
   "outputs": [],
   "source": [
    "def label_data(x):\n",
    "    if x[\"Close\"] < x[\"Next Day Close\"]: \n",
    "        return \"Long\"\n",
    "    else:\n",
    "        return \"Short\""
   ]
  },
  {
   "cell_type": "markdown",
   "metadata": {},
   "source": [
    "# Data"
   ]
  },
  {
   "cell_type": "code",
   "execution_count": 5,
   "metadata": {},
   "outputs": [
    {
     "data": {
      "text/html": [
       "<div>\n",
       "<style scoped>\n",
       "    .dataframe tbody tr th:only-of-type {\n",
       "        vertical-align: middle;\n",
       "    }\n",
       "\n",
       "    .dataframe tbody tr th {\n",
       "        vertical-align: top;\n",
       "    }\n",
       "\n",
       "    .dataframe thead th {\n",
       "        text-align: right;\n",
       "    }\n",
       "</style>\n",
       "<table border=\"1\" class=\"dataframe\">\n",
       "  <thead>\n",
       "    <tr style=\"text-align: right;\">\n",
       "      <th></th>\n",
       "      <th>Date</th>\n",
       "      <th>Time</th>\n",
       "      <th>Open</th>\n",
       "      <th>High</th>\n",
       "      <th>Low</th>\n",
       "      <th>Close</th>\n",
       "      <th>Volume</th>\n",
       "    </tr>\n",
       "  </thead>\n",
       "  <tbody>\n",
       "    <tr>\n",
       "      <th>0</th>\n",
       "      <td>01/02/1998</td>\n",
       "      <td>09:31</td>\n",
       "      <td>31.85</td>\n",
       "      <td>31.89</td>\n",
       "      <td>31.85</td>\n",
       "      <td>31.85</td>\n",
       "      <td>35388</td>\n",
       "    </tr>\n",
       "    <tr>\n",
       "      <th>1</th>\n",
       "      <td>01/02/1998</td>\n",
       "      <td>09:32</td>\n",
       "      <td>31.87</td>\n",
       "      <td>31.89</td>\n",
       "      <td>31.85</td>\n",
       "      <td>31.89</td>\n",
       "      <td>43580</td>\n",
       "    </tr>\n",
       "    <tr>\n",
       "      <th>2</th>\n",
       "      <td>01/02/1998</td>\n",
       "      <td>09:33</td>\n",
       "      <td>31.87</td>\n",
       "      <td>31.89</td>\n",
       "      <td>31.85</td>\n",
       "      <td>31.85</td>\n",
       "      <td>55048</td>\n",
       "    </tr>\n",
       "    <tr>\n",
       "      <th>3</th>\n",
       "      <td>01/02/1998</td>\n",
       "      <td>09:34</td>\n",
       "      <td>31.85</td>\n",
       "      <td>31.89</td>\n",
       "      <td>31.85</td>\n",
       "      <td>31.85</td>\n",
       "      <td>15731</td>\n",
       "    </tr>\n",
       "    <tr>\n",
       "      <th>4</th>\n",
       "      <td>01/02/1998</td>\n",
       "      <td>09:35</td>\n",
       "      <td>31.87</td>\n",
       "      <td>31.89</td>\n",
       "      <td>31.85</td>\n",
       "      <td>31.85</td>\n",
       "      <td>76346</td>\n",
       "    </tr>\n",
       "  </tbody>\n",
       "</table>\n",
       "</div>"
      ],
      "text/plain": [
       "         Date   Time   Open   High    Low  Close  Volume\n",
       "0  01/02/1998  09:31  31.85  31.89  31.85  31.85   35388\n",
       "1  01/02/1998  09:32  31.87  31.89  31.85  31.89   43580\n",
       "2  01/02/1998  09:33  31.87  31.89  31.85  31.85   55048\n",
       "3  01/02/1998  09:34  31.85  31.89  31.85  31.85   15731\n",
       "4  01/02/1998  09:35  31.87  31.89  31.85  31.85   76346"
      ]
     },
     "execution_count": 5,
     "metadata": {},
     "output_type": "execute_result"
    }
   ],
   "source": [
    "col_name = [\"Date\", \"Time\", \"Open\", \"High\", \"Low\", \"Close\", \"Volume\"]\n",
    "df = pd.read_csv(\"IBM_adjusted.txt\", names=col_name, header = 0)\n",
    "df.head()"
   ]
  },
  {
   "cell_type": "code",
   "execution_count": 6,
   "metadata": {},
   "outputs": [
    {
     "data": {
      "text/plain": [
       "Date      0\n",
       "Time      0\n",
       "Open      0\n",
       "High      0\n",
       "Low       0\n",
       "Close     0\n",
       "Volume    0\n",
       "dtype: int64"
      ]
     },
     "execution_count": 6,
     "metadata": {},
     "output_type": "execute_result"
    }
   ],
   "source": [
    "df.isna().sum()"
   ]
  },
  {
   "cell_type": "code",
   "execution_count": 7,
   "metadata": {},
   "outputs": [
    {
     "data": {
      "text/html": [
       "<div>\n",
       "<style scoped>\n",
       "    .dataframe tbody tr th:only-of-type {\n",
       "        vertical-align: middle;\n",
       "    }\n",
       "\n",
       "    .dataframe tbody tr th {\n",
       "        vertical-align: top;\n",
       "    }\n",
       "\n",
       "    .dataframe thead th {\n",
       "        text-align: right;\n",
       "    }\n",
       "</style>\n",
       "<table border=\"1\" class=\"dataframe\">\n",
       "  <thead>\n",
       "    <tr style=\"text-align: right;\">\n",
       "      <th></th>\n",
       "      <th>Date</th>\n",
       "      <th>Time</th>\n",
       "      <th>Open</th>\n",
       "      <th>Close</th>\n",
       "    </tr>\n",
       "  </thead>\n",
       "  <tbody>\n",
       "    <tr>\n",
       "      <th>0</th>\n",
       "      <td>01/02/1998</td>\n",
       "      <td>09:31</td>\n",
       "      <td>31.85</td>\n",
       "      <td>31.85</td>\n",
       "    </tr>\n",
       "    <tr>\n",
       "      <th>1</th>\n",
       "      <td>01/02/1998</td>\n",
       "      <td>09:32</td>\n",
       "      <td>31.87</td>\n",
       "      <td>31.89</td>\n",
       "    </tr>\n",
       "    <tr>\n",
       "      <th>2</th>\n",
       "      <td>01/02/1998</td>\n",
       "      <td>09:33</td>\n",
       "      <td>31.87</td>\n",
       "      <td>31.85</td>\n",
       "    </tr>\n",
       "    <tr>\n",
       "      <th>3</th>\n",
       "      <td>01/02/1998</td>\n",
       "      <td>09:34</td>\n",
       "      <td>31.85</td>\n",
       "      <td>31.85</td>\n",
       "    </tr>\n",
       "    <tr>\n",
       "      <th>4</th>\n",
       "      <td>01/02/1998</td>\n",
       "      <td>09:35</td>\n",
       "      <td>31.87</td>\n",
       "      <td>31.85</td>\n",
       "    </tr>\n",
       "  </tbody>\n",
       "</table>\n",
       "</div>"
      ],
      "text/plain": [
       "         Date   Time   Open  Close\n",
       "0  01/02/1998  09:31  31.85  31.85\n",
       "1  01/02/1998  09:32  31.87  31.89\n",
       "2  01/02/1998  09:33  31.87  31.85\n",
       "3  01/02/1998  09:34  31.85  31.85\n",
       "4  01/02/1998  09:35  31.87  31.85"
      ]
     },
     "execution_count": 7,
     "metadata": {},
     "output_type": "execute_result"
    }
   ],
   "source": [
    "df.drop([\"High\", \"Low\", \"Volume\"], axis = 1, inplace = True)\n",
    "df.head()"
   ]
  },
  {
   "cell_type": "code",
   "execution_count": 8,
   "metadata": {},
   "outputs": [],
   "source": [
    "df[\"Date\"] = pd.to_datetime(df[\"Date\"] + \" \" + df[\"Time\"])"
   ]
  },
  {
   "cell_type": "code",
   "execution_count": 9,
   "metadata": {},
   "outputs": [
    {
     "data": {
      "text/html": [
       "<div>\n",
       "<style scoped>\n",
       "    .dataframe tbody tr th:only-of-type {\n",
       "        vertical-align: middle;\n",
       "    }\n",
       "\n",
       "    .dataframe tbody tr th {\n",
       "        vertical-align: top;\n",
       "    }\n",
       "\n",
       "    .dataframe thead th {\n",
       "        text-align: right;\n",
       "    }\n",
       "</style>\n",
       "<table border=\"1\" class=\"dataframe\">\n",
       "  <thead>\n",
       "    <tr style=\"text-align: right;\">\n",
       "      <th></th>\n",
       "      <th>Date</th>\n",
       "      <th>Open</th>\n",
       "      <th>Close</th>\n",
       "    </tr>\n",
       "  </thead>\n",
       "  <tbody>\n",
       "    <tr>\n",
       "      <th>0</th>\n",
       "      <td>1998-01-02 09:31:00</td>\n",
       "      <td>31.85</td>\n",
       "      <td>31.85</td>\n",
       "    </tr>\n",
       "    <tr>\n",
       "      <th>1</th>\n",
       "      <td>1998-01-02 09:32:00</td>\n",
       "      <td>31.87</td>\n",
       "      <td>31.89</td>\n",
       "    </tr>\n",
       "    <tr>\n",
       "      <th>2</th>\n",
       "      <td>1998-01-02 09:33:00</td>\n",
       "      <td>31.87</td>\n",
       "      <td>31.85</td>\n",
       "    </tr>\n",
       "    <tr>\n",
       "      <th>3</th>\n",
       "      <td>1998-01-02 09:34:00</td>\n",
       "      <td>31.85</td>\n",
       "      <td>31.85</td>\n",
       "    </tr>\n",
       "    <tr>\n",
       "      <th>4</th>\n",
       "      <td>1998-01-02 09:35:00</td>\n",
       "      <td>31.87</td>\n",
       "      <td>31.85</td>\n",
       "    </tr>\n",
       "  </tbody>\n",
       "</table>\n",
       "</div>"
      ],
      "text/plain": [
       "                 Date   Open  Close\n",
       "0 1998-01-02 09:31:00  31.85  31.85\n",
       "1 1998-01-02 09:32:00  31.87  31.89\n",
       "2 1998-01-02 09:33:00  31.87  31.85\n",
       "3 1998-01-02 09:34:00  31.85  31.85\n",
       "4 1998-01-02 09:35:00  31.87  31.85"
      ]
     },
     "execution_count": 9,
     "metadata": {},
     "output_type": "execute_result"
    }
   ],
   "source": [
    "df.drop([\"Time\"], axis = 1, inplace = True)\n",
    "df.head()"
   ]
  },
  {
   "cell_type": "code",
   "execution_count": 10,
   "metadata": {},
   "outputs": [],
   "source": [
    "df.to_csv(\"data_ready.csv\")"
   ]
  },
  {
   "cell_type": "code",
   "execution_count": 11,
   "metadata": {},
   "outputs": [
    {
     "data": {
      "text/plain": [
       "2436174"
      ]
     },
     "execution_count": 11,
     "metadata": {},
     "output_type": "execute_result"
    }
   ],
   "source": [
    "len(df)"
   ]
  },
  {
   "cell_type": "code",
   "execution_count": 12,
   "metadata": {},
   "outputs": [
    {
     "data": {
      "text/html": [
       "<div>\n",
       "<style scoped>\n",
       "    .dataframe tbody tr th:only-of-type {\n",
       "        vertical-align: middle;\n",
       "    }\n",
       "\n",
       "    .dataframe tbody tr th {\n",
       "        vertical-align: top;\n",
       "    }\n",
       "\n",
       "    .dataframe thead th {\n",
       "        text-align: right;\n",
       "    }\n",
       "</style>\n",
       "<table border=\"1\" class=\"dataframe\">\n",
       "  <thead>\n",
       "    <tr style=\"text-align: right;\">\n",
       "      <th></th>\n",
       "      <th>Date</th>\n",
       "      <th>Open</th>\n",
       "      <th>Close</th>\n",
       "    </tr>\n",
       "  </thead>\n",
       "  <tbody>\n",
       "    <tr>\n",
       "      <th>0</th>\n",
       "      <td>1998-01-02 09:00:00</td>\n",
       "      <td>31.910000</td>\n",
       "      <td>31.914828</td>\n",
       "    </tr>\n",
       "    <tr>\n",
       "      <th>1</th>\n",
       "      <td>1998-01-02 10:00:00</td>\n",
       "      <td>31.883220</td>\n",
       "      <td>31.884746</td>\n",
       "    </tr>\n",
       "    <tr>\n",
       "      <th>2</th>\n",
       "      <td>1998-01-02 11:00:00</td>\n",
       "      <td>32.014576</td>\n",
       "      <td>32.015085</td>\n",
       "    </tr>\n",
       "    <tr>\n",
       "      <th>3</th>\n",
       "      <td>1998-01-02 12:00:00</td>\n",
       "      <td>32.043966</td>\n",
       "      <td>32.045517</td>\n",
       "    </tr>\n",
       "    <tr>\n",
       "      <th>4</th>\n",
       "      <td>1998-01-02 13:00:00</td>\n",
       "      <td>32.032000</td>\n",
       "      <td>32.033000</td>\n",
       "    </tr>\n",
       "  </tbody>\n",
       "</table>\n",
       "</div>"
      ],
      "text/plain": [
       "                 Date       Open      Close\n",
       "0 1998-01-02 09:00:00  31.910000  31.914828\n",
       "1 1998-01-02 10:00:00  31.883220  31.884746\n",
       "2 1998-01-02 11:00:00  32.014576  32.015085\n",
       "3 1998-01-02 12:00:00  32.043966  32.045517\n",
       "4 1998-01-02 13:00:00  32.032000  32.033000"
      ]
     },
     "execution_count": 12,
     "metadata": {},
     "output_type": "execute_result"
    }
   ],
   "source": [
    "df = df.groupby(pd.Grouper(key = \"Date\", freq = \"1h\")).mean().reset_index()\n",
    "df.head()"
   ]
  },
  {
   "cell_type": "code",
   "execution_count": 13,
   "metadata": {},
   "outputs": [
    {
     "data": {
      "text/plain": [
       "204371"
      ]
     },
     "execution_count": 13,
     "metadata": {},
     "output_type": "execute_result"
    }
   ],
   "source": [
    "len(df)"
   ]
  },
  {
   "cell_type": "code",
   "execution_count": 14,
   "metadata": {},
   "outputs": [
    {
     "data": {
      "text/html": [
       "<div>\n",
       "<style scoped>\n",
       "    .dataframe tbody tr th:only-of-type {\n",
       "        vertical-align: middle;\n",
       "    }\n",
       "\n",
       "    .dataframe tbody tr th {\n",
       "        vertical-align: top;\n",
       "    }\n",
       "\n",
       "    .dataframe thead th {\n",
       "        text-align: right;\n",
       "    }\n",
       "</style>\n",
       "<table border=\"1\" class=\"dataframe\">\n",
       "  <thead>\n",
       "    <tr style=\"text-align: right;\">\n",
       "      <th></th>\n",
       "      <th>Date</th>\n",
       "      <th>Open</th>\n",
       "      <th>Close</th>\n",
       "    </tr>\n",
       "  </thead>\n",
       "  <tbody>\n",
       "    <tr>\n",
       "      <th>0</th>\n",
       "      <td>1998-01-02 09:00:00</td>\n",
       "      <td>31.910000</td>\n",
       "      <td>31.914828</td>\n",
       "    </tr>\n",
       "    <tr>\n",
       "      <th>1</th>\n",
       "      <td>1998-01-02 10:00:00</td>\n",
       "      <td>31.883220</td>\n",
       "      <td>31.884746</td>\n",
       "    </tr>\n",
       "    <tr>\n",
       "      <th>2</th>\n",
       "      <td>1998-01-02 11:00:00</td>\n",
       "      <td>32.014576</td>\n",
       "      <td>32.015085</td>\n",
       "    </tr>\n",
       "    <tr>\n",
       "      <th>3</th>\n",
       "      <td>1998-01-02 12:00:00</td>\n",
       "      <td>32.043966</td>\n",
       "      <td>32.045517</td>\n",
       "    </tr>\n",
       "    <tr>\n",
       "      <th>4</th>\n",
       "      <td>1998-01-02 13:00:00</td>\n",
       "      <td>32.032000</td>\n",
       "      <td>32.033000</td>\n",
       "    </tr>\n",
       "  </tbody>\n",
       "</table>\n",
       "</div>"
      ],
      "text/plain": [
       "                 Date       Open      Close\n",
       "0 1998-01-02 09:00:00  31.910000  31.914828\n",
       "1 1998-01-02 10:00:00  31.883220  31.884746\n",
       "2 1998-01-02 11:00:00  32.014576  32.015085\n",
       "3 1998-01-02 12:00:00  32.043966  32.045517\n",
       "4 1998-01-02 13:00:00  32.032000  32.033000"
      ]
     },
     "execution_count": 14,
     "metadata": {},
     "output_type": "execute_result"
    }
   ],
   "source": [
    "df[\"Open\"] = df[\"Open\"].replace(to_replace = 0, method = \"ffill\")\n",
    "\n",
    "df[\"Close\"] = df[\"Close\"].replace(to_replace = 0, method = \"ffill\")\n",
    "df.head()"
   ]
  },
  {
   "cell_type": "code",
   "execution_count": 15,
   "metadata": {},
   "outputs": [
    {
     "data": {
      "text/html": [
       "<div>\n",
       "<style scoped>\n",
       "    .dataframe tbody tr th:only-of-type {\n",
       "        vertical-align: middle;\n",
       "    }\n",
       "\n",
       "    .dataframe tbody tr th {\n",
       "        vertical-align: top;\n",
       "    }\n",
       "\n",
       "    .dataframe thead th {\n",
       "        text-align: right;\n",
       "    }\n",
       "</style>\n",
       "<table border=\"1\" class=\"dataframe\">\n",
       "  <thead>\n",
       "    <tr style=\"text-align: right;\">\n",
       "      <th></th>\n",
       "      <th>Date</th>\n",
       "      <th>Open</th>\n",
       "      <th>Close</th>\n",
       "    </tr>\n",
       "  </thead>\n",
       "  <tbody>\n",
       "    <tr>\n",
       "      <th>0</th>\n",
       "      <td>1998-01-02 09:00:00</td>\n",
       "      <td>31.910000</td>\n",
       "      <td>31.914828</td>\n",
       "    </tr>\n",
       "    <tr>\n",
       "      <th>1</th>\n",
       "      <td>1998-01-02 10:00:00</td>\n",
       "      <td>31.883220</td>\n",
       "      <td>31.884746</td>\n",
       "    </tr>\n",
       "    <tr>\n",
       "      <th>2</th>\n",
       "      <td>1998-01-02 11:00:00</td>\n",
       "      <td>32.014576</td>\n",
       "      <td>32.015085</td>\n",
       "    </tr>\n",
       "    <tr>\n",
       "      <th>3</th>\n",
       "      <td>1998-01-02 12:00:00</td>\n",
       "      <td>32.043966</td>\n",
       "      <td>32.045517</td>\n",
       "    </tr>\n",
       "    <tr>\n",
       "      <th>4</th>\n",
       "      <td>1998-01-02 13:00:00</td>\n",
       "      <td>32.032000</td>\n",
       "      <td>32.033000</td>\n",
       "    </tr>\n",
       "    <tr>\n",
       "      <th>...</th>\n",
       "      <td>...</td>\n",
       "      <td>...</td>\n",
       "      <td>...</td>\n",
       "    </tr>\n",
       "    <tr>\n",
       "      <th>48651</th>\n",
       "      <td>2021-04-26 12:00:00</td>\n",
       "      <td>142.703843</td>\n",
       "      <td>142.703290</td>\n",
       "    </tr>\n",
       "    <tr>\n",
       "      <th>48652</th>\n",
       "      <td>2021-04-26 13:00:00</td>\n",
       "      <td>142.275947</td>\n",
       "      <td>142.269082</td>\n",
       "    </tr>\n",
       "    <tr>\n",
       "      <th>48653</th>\n",
       "      <td>2021-04-26 14:00:00</td>\n",
       "      <td>141.966905</td>\n",
       "      <td>141.963307</td>\n",
       "    </tr>\n",
       "    <tr>\n",
       "      <th>48654</th>\n",
       "      <td>2021-04-26 15:00:00</td>\n",
       "      <td>141.807362</td>\n",
       "      <td>141.803703</td>\n",
       "    </tr>\n",
       "    <tr>\n",
       "      <th>48655</th>\n",
       "      <td>2021-04-26 16:00:00</td>\n",
       "      <td>141.450000</td>\n",
       "      <td>141.404286</td>\n",
       "    </tr>\n",
       "  </tbody>\n",
       "</table>\n",
       "<p>48656 rows × 3 columns</p>\n",
       "</div>"
      ],
      "text/plain": [
       "                     Date        Open       Close\n",
       "0     1998-01-02 09:00:00   31.910000   31.914828\n",
       "1     1998-01-02 10:00:00   31.883220   31.884746\n",
       "2     1998-01-02 11:00:00   32.014576   32.015085\n",
       "3     1998-01-02 12:00:00   32.043966   32.045517\n",
       "4     1998-01-02 13:00:00   32.032000   32.033000\n",
       "...                   ...         ...         ...\n",
       "48651 2021-04-26 12:00:00  142.703843  142.703290\n",
       "48652 2021-04-26 13:00:00  142.275947  142.269082\n",
       "48653 2021-04-26 14:00:00  141.966905  141.963307\n",
       "48654 2021-04-26 15:00:00  141.807362  141.803703\n",
       "48655 2021-04-26 16:00:00  141.450000  141.404286\n",
       "\n",
       "[48656 rows x 3 columns]"
      ]
     },
     "execution_count": 15,
     "metadata": {},
     "output_type": "execute_result"
    }
   ],
   "source": [
    "cleandf = clean_data(df)\n",
    "cleandf"
   ]
  },
  {
   "cell_type": "code",
   "execution_count": 16,
   "metadata": {},
   "outputs": [
    {
     "data": {
      "text/html": [
       "<div>\n",
       "<style scoped>\n",
       "    .dataframe tbody tr th:only-of-type {\n",
       "        vertical-align: middle;\n",
       "    }\n",
       "\n",
       "    .dataframe tbody tr th {\n",
       "        vertical-align: top;\n",
       "    }\n",
       "\n",
       "    .dataframe thead th {\n",
       "        text-align: right;\n",
       "    }\n",
       "</style>\n",
       "<table border=\"1\" class=\"dataframe\">\n",
       "  <thead>\n",
       "    <tr style=\"text-align: right;\">\n",
       "      <th></th>\n",
       "      <th>Date</th>\n",
       "      <th>Open</th>\n",
       "      <th>Close</th>\n",
       "      <th>Next Day Close</th>\n",
       "    </tr>\n",
       "  </thead>\n",
       "  <tbody>\n",
       "    <tr>\n",
       "      <th>0</th>\n",
       "      <td>1998-01-02 09:00:00</td>\n",
       "      <td>31.910000</td>\n",
       "      <td>31.914828</td>\n",
       "      <td>31.884746</td>\n",
       "    </tr>\n",
       "    <tr>\n",
       "      <th>1</th>\n",
       "      <td>1998-01-02 10:00:00</td>\n",
       "      <td>31.883220</td>\n",
       "      <td>31.884746</td>\n",
       "      <td>32.015085</td>\n",
       "    </tr>\n",
       "    <tr>\n",
       "      <th>2</th>\n",
       "      <td>1998-01-02 11:00:00</td>\n",
       "      <td>32.014576</td>\n",
       "      <td>32.015085</td>\n",
       "      <td>32.045517</td>\n",
       "    </tr>\n",
       "    <tr>\n",
       "      <th>3</th>\n",
       "      <td>1998-01-02 12:00:00</td>\n",
       "      <td>32.043966</td>\n",
       "      <td>32.045517</td>\n",
       "      <td>32.033000</td>\n",
       "    </tr>\n",
       "    <tr>\n",
       "      <th>4</th>\n",
       "      <td>1998-01-02 13:00:00</td>\n",
       "      <td>32.032000</td>\n",
       "      <td>32.033000</td>\n",
       "      <td>31.925185</td>\n",
       "    </tr>\n",
       "  </tbody>\n",
       "</table>\n",
       "</div>"
      ],
      "text/plain": [
       "                 Date       Open      Close  Next Day Close\n",
       "0 1998-01-02 09:00:00  31.910000  31.914828       31.884746\n",
       "1 1998-01-02 10:00:00  31.883220  31.884746       32.015085\n",
       "2 1998-01-02 11:00:00  32.014576  32.015085       32.045517\n",
       "3 1998-01-02 12:00:00  32.043966  32.045517       32.033000\n",
       "4 1998-01-02 13:00:00  32.032000  32.033000       31.925185"
      ]
     },
     "execution_count": 16,
     "metadata": {},
     "output_type": "execute_result"
    }
   ],
   "source": [
    "cleandf[\"Next Day Close\"] = cleandf[\"Close\"].shift(-1)\n",
    "cleandf.dropna(inplace = True)\n",
    "cleandf.head()"
   ]
  },
  {
   "cell_type": "code",
   "execution_count": 17,
   "metadata": {},
   "outputs": [
    {
     "data": {
      "text/html": [
       "<div>\n",
       "<style scoped>\n",
       "    .dataframe tbody tr th:only-of-type {\n",
       "        vertical-align: middle;\n",
       "    }\n",
       "\n",
       "    .dataframe tbody tr th {\n",
       "        vertical-align: top;\n",
       "    }\n",
       "\n",
       "    .dataframe thead th {\n",
       "        text-align: right;\n",
       "    }\n",
       "</style>\n",
       "<table border=\"1\" class=\"dataframe\">\n",
       "  <thead>\n",
       "    <tr style=\"text-align: right;\">\n",
       "      <th></th>\n",
       "      <th>Date</th>\n",
       "      <th>Open</th>\n",
       "      <th>Close</th>\n",
       "      <th>Next Day Close</th>\n",
       "      <th>Label</th>\n",
       "    </tr>\n",
       "  </thead>\n",
       "  <tbody>\n",
       "    <tr>\n",
       "      <th>0</th>\n",
       "      <td>1998-01-02 09:00:00</td>\n",
       "      <td>31.910000</td>\n",
       "      <td>31.914828</td>\n",
       "      <td>31.884746</td>\n",
       "      <td>Short</td>\n",
       "    </tr>\n",
       "    <tr>\n",
       "      <th>1</th>\n",
       "      <td>1998-01-02 10:00:00</td>\n",
       "      <td>31.883220</td>\n",
       "      <td>31.884746</td>\n",
       "      <td>32.015085</td>\n",
       "      <td>Long</td>\n",
       "    </tr>\n",
       "    <tr>\n",
       "      <th>2</th>\n",
       "      <td>1998-01-02 11:00:00</td>\n",
       "      <td>32.014576</td>\n",
       "      <td>32.015085</td>\n",
       "      <td>32.045517</td>\n",
       "      <td>Long</td>\n",
       "    </tr>\n",
       "    <tr>\n",
       "      <th>3</th>\n",
       "      <td>1998-01-02 12:00:00</td>\n",
       "      <td>32.043966</td>\n",
       "      <td>32.045517</td>\n",
       "      <td>32.033000</td>\n",
       "      <td>Short</td>\n",
       "    </tr>\n",
       "    <tr>\n",
       "      <th>4</th>\n",
       "      <td>1998-01-02 13:00:00</td>\n",
       "      <td>32.032000</td>\n",
       "      <td>32.033000</td>\n",
       "      <td>31.925185</td>\n",
       "      <td>Short</td>\n",
       "    </tr>\n",
       "  </tbody>\n",
       "</table>\n",
       "</div>"
      ],
      "text/plain": [
       "                 Date       Open      Close  Next Day Close  Label\n",
       "0 1998-01-02 09:00:00  31.910000  31.914828       31.884746  Short\n",
       "1 1998-01-02 10:00:00  31.883220  31.884746       32.015085   Long\n",
       "2 1998-01-02 11:00:00  32.014576  32.015085       32.045517   Long\n",
       "3 1998-01-02 12:00:00  32.043966  32.045517       32.033000  Short\n",
       "4 1998-01-02 13:00:00  32.032000  32.033000       31.925185  Short"
      ]
     },
     "execution_count": 17,
     "metadata": {},
     "output_type": "execute_result"
    }
   ],
   "source": [
    "cleandf[\"Label\"] = cleandf.apply(lambda x: label_data(x), axis = 1)\n",
    "cleandf.head()"
   ]
  },
  {
   "cell_type": "code",
   "execution_count": 18,
   "metadata": {},
   "outputs": [],
   "source": [
    "cleandf.drop([\"Next Day Close\", \"Close\"], axis = 1, inplace = True)"
   ]
  },
  {
   "cell_type": "code",
   "execution_count": 19,
   "metadata": {},
   "outputs": [],
   "source": [
    "from sklearn.preprocessing import MinMaxScaler\n",
    "scaler = MinMaxScaler()\n",
    "train_data = cleandf[cleandf[\"Date\"] < \"2017\"]\n",
    "test_data = cleandf[cleandf[\"Date\"] >= \"2017\"]"
   ]
  },
  {
   "cell_type": "code",
   "execution_count": 78,
   "metadata": {},
   "outputs": [
    {
     "data": {
      "text/plain": [
       "9007"
      ]
     },
     "execution_count": 78,
     "metadata": {},
     "output_type": "execute_result"
    }
   ],
   "source": [
    "len(test_data)"
   ]
  },
  {
   "cell_type": "code",
   "execution_count": 128,
   "metadata": {},
   "outputs": [],
   "source": [
    "x_train = train_data.drop([\"Label\"], axis = 1)\n",
    "y_train = train_data[\"Label\"]"
   ]
  },
  {
   "cell_type": "code",
   "execution_count": 129,
   "metadata": {},
   "outputs": [
    {
     "data": {
      "text/html": [
       "<div>\n",
       "<style scoped>\n",
       "    .dataframe tbody tr th:only-of-type {\n",
       "        vertical-align: middle;\n",
       "    }\n",
       "\n",
       "    .dataframe tbody tr th {\n",
       "        vertical-align: top;\n",
       "    }\n",
       "\n",
       "    .dataframe thead th {\n",
       "        text-align: right;\n",
       "    }\n",
       "</style>\n",
       "<table border=\"1\" class=\"dataframe\">\n",
       "  <thead>\n",
       "    <tr style=\"text-align: right;\">\n",
       "      <th></th>\n",
       "      <th>Date</th>\n",
       "      <th>Open</th>\n",
       "    </tr>\n",
       "  </thead>\n",
       "  <tbody>\n",
       "    <tr>\n",
       "      <th>0</th>\n",
       "      <td>1998-01-02 09:00:00</td>\n",
       "      <td>31.910000</td>\n",
       "    </tr>\n",
       "    <tr>\n",
       "      <th>1</th>\n",
       "      <td>1998-01-02 10:00:00</td>\n",
       "      <td>31.883220</td>\n",
       "    </tr>\n",
       "    <tr>\n",
       "      <th>2</th>\n",
       "      <td>1998-01-02 11:00:00</td>\n",
       "      <td>32.014576</td>\n",
       "    </tr>\n",
       "    <tr>\n",
       "      <th>3</th>\n",
       "      <td>1998-01-02 12:00:00</td>\n",
       "      <td>32.043966</td>\n",
       "    </tr>\n",
       "    <tr>\n",
       "      <th>4</th>\n",
       "      <td>1998-01-02 13:00:00</td>\n",
       "      <td>32.032000</td>\n",
       "    </tr>\n",
       "    <tr>\n",
       "      <th>...</th>\n",
       "      <td>...</td>\n",
       "      <td>...</td>\n",
       "    </tr>\n",
       "    <tr>\n",
       "      <th>39643</th>\n",
       "      <td>2016-12-30 12:00:00</td>\n",
       "      <td>137.147500</td>\n",
       "    </tr>\n",
       "    <tr>\n",
       "      <th>39644</th>\n",
       "      <td>2016-12-30 13:00:00</td>\n",
       "      <td>137.042034</td>\n",
       "    </tr>\n",
       "    <tr>\n",
       "      <th>39645</th>\n",
       "      <td>2016-12-30 14:00:00</td>\n",
       "      <td>136.823500</td>\n",
       "    </tr>\n",
       "    <tr>\n",
       "      <th>39646</th>\n",
       "      <td>2016-12-30 15:00:00</td>\n",
       "      <td>136.694500</td>\n",
       "    </tr>\n",
       "    <tr>\n",
       "      <th>39647</th>\n",
       "      <td>2016-12-30 16:00:00</td>\n",
       "      <td>136.713333</td>\n",
       "    </tr>\n",
       "  </tbody>\n",
       "</table>\n",
       "<p>39648 rows × 2 columns</p>\n",
       "</div>"
      ],
      "text/plain": [
       "                     Date        Open\n",
       "0     1998-01-02 09:00:00   31.910000\n",
       "1     1998-01-02 10:00:00   31.883220\n",
       "2     1998-01-02 11:00:00   32.014576\n",
       "3     1998-01-02 12:00:00   32.043966\n",
       "4     1998-01-02 13:00:00   32.032000\n",
       "...                   ...         ...\n",
       "39643 2016-12-30 12:00:00  137.147500\n",
       "39644 2016-12-30 13:00:00  137.042034\n",
       "39645 2016-12-30 14:00:00  136.823500\n",
       "39646 2016-12-30 15:00:00  136.694500\n",
       "39647 2016-12-30 16:00:00  136.713333\n",
       "\n",
       "[39648 rows x 2 columns]"
      ]
     },
     "execution_count": 129,
     "metadata": {},
     "output_type": "execute_result"
    }
   ],
   "source": [
    "x_train"
   ]
  },
  {
   "cell_type": "code",
   "execution_count": 130,
   "metadata": {},
   "outputs": [],
   "source": [
    "x_test = test_data.drop([\"Label\"], axis = 1)\n",
    "y_test = test_data[\"Label\"]"
   ]
  },
  {
   "cell_type": "code",
   "execution_count": 131,
   "metadata": {},
   "outputs": [],
   "source": [
    "x_train_scaled = scaler.fit_transform(x_train[\"Open\"].values.reshape(-1,1))"
   ]
  },
  {
   "cell_type": "code",
   "execution_count": 132,
   "metadata": {},
   "outputs": [],
   "source": [
    "x_test_scaled = scaler.transform(x_test[\"Open\"].values.reshape(-1,1))"
   ]
  },
  {
   "cell_type": "markdown",
   "metadata": {},
   "source": [
    "# create/reshape data for prediction, each time use the previous 20 days. "
   ]
  },
  {
   "cell_type": "code",
   "execution_count": 134,
   "metadata": {},
   "outputs": [
    {
     "name": "stdout",
     "output_type": "stream",
     "text": [
      "x_train  (39628, 20)\n",
      "y_train  (39628,)\n"
     ]
    }
   ],
   "source": [
    "x_train_reshaped = []\n",
    "y_train_reshaped = []\n",
    "y_train_binary = y_train.apply(lambda x : change_label(x))\n",
    "for i in range(20, len(x_train)):\n",
    "    x_train_reshaped.append(x_train_scaled[i - 19: i + 1, 0])\n",
    "    y_train_reshaped.append(y_train_binary[i])\n",
    "x_train_reshaped = np.array(x_train_reshaped)\n",
    "y_train_reshaped = np.array(y_train_reshaped)\n",
    "print(\"x_train \", x_train_reshaped.shape)\n",
    "print(\"y_train \", y_train_reshaped.shape)"
   ]
  },
  {
   "cell_type": "markdown",
   "metadata": {},
   "source": [
    "# LSTM only accepts values in 3-dimensions, have to reshape the data "
   ]
  },
  {
   "cell_type": "code",
   "execution_count": 135,
   "metadata": {},
   "outputs": [],
   "source": [
    "x_train_reshaped = np.reshape(x_train_reshaped, (x_train_reshaped.shape[0], x_train_reshaped.shape[1], 1))"
   ]
  },
  {
   "cell_type": "code",
   "execution_count": 136,
   "metadata": {},
   "outputs": [
    {
     "name": "stdout",
     "output_type": "stream",
     "text": [
      "x_train  (39628, 20, 1)\n"
     ]
    }
   ],
   "source": [
    "print(\"x_train \", x_train_reshaped.shape)"
   ]
  },
  {
   "cell_type": "markdown",
   "metadata": {},
   "source": [
    "# building LSTM neural net"
   ]
  },
  {
   "cell_type": "code",
   "execution_count": 137,
   "metadata": {},
   "outputs": [],
   "source": [
    "from keras.models import Sequential\n",
    "from keras.layers import Dense, LSTM, Dropout\n",
    "import tensorflow as tf \n",
    "from sklearn.metrics import accuracy_score\n",
    "from sklearn.metrics import mean_squared_error"
   ]
  },
  {
   "cell_type": "code",
   "execution_count": 138,
   "metadata": {},
   "outputs": [],
   "source": [
    "model = Sequential()\n",
    "model.add(LSTM(units = 100, activation = \"tanh\", return_sequences = True, input_shape = (x_train_reshaped.shape[1], 1)))\n",
    "model.add(Dropout(0.2))\n",
    "model.add(LSTM(units = 50, activation = \"tanh\", return_sequences = True))\n",
    "model.add(Dropout(0.2))\n",
    "model.add(LSTM(units = 25, activation = \"tanh\"))\n",
    "model.add(Dropout(0.2))\n",
    "model.add(Dense(units = 1, activation = \"sigmoid\"))\n"
   ]
  },
  {
   "cell_type": "code",
   "execution_count": 139,
   "metadata": {},
   "outputs": [],
   "source": [
    "model.compile(optimizer = \"adam\", loss = \"binary_crossentropy\", metrics = [\"accuracy\"])"
   ]
  },
  {
   "cell_type": "code",
   "execution_count": 140,
   "metadata": {},
   "outputs": [
    {
     "name": "stdout",
     "output_type": "stream",
     "text": [
      "Epoch 1/15\n",
      "1239/1239 [==============================] - 30s 22ms/step - loss: 0.6934 - accuracy: 0.5098\n",
      "Epoch 2/15\n",
      "1239/1239 [==============================] - 25s 20ms/step - loss: 0.6929 - accuracy: 0.5140\n",
      "Epoch 3/15\n",
      "1239/1239 [==============================] - 25s 20ms/step - loss: 0.6921 - accuracy: 0.5230\n",
      "Epoch 4/15\n",
      "1239/1239 [==============================] - 26s 21ms/step - loss: 0.6928 - accuracy: 0.5159\n",
      "Epoch 5/15\n",
      "1239/1239 [==============================] - 25s 21ms/step - loss: 0.6924 - accuracy: 0.5210\n",
      "Epoch 6/15\n",
      "1239/1239 [==============================] - 26s 21ms/step - loss: 0.6927 - accuracy: 0.5149\n",
      "Epoch 7/15\n",
      "1239/1239 [==============================] - 26s 21ms/step - loss: 0.6928 - accuracy: 0.5087\n",
      "Epoch 8/15\n",
      "1239/1239 [==============================] - 25s 20ms/step - loss: 0.6925 - accuracy: 0.5181\n",
      "Epoch 9/15\n",
      "1239/1239 [==============================] - 25s 21ms/step - loss: 0.6924 - accuracy: 0.5205\n",
      "Epoch 10/15\n",
      "1239/1239 [==============================] - 25s 20ms/step - loss: 0.6923 - accuracy: 0.5194\n",
      "Epoch 11/15\n",
      "1239/1239 [==============================] - 25s 20ms/step - loss: 0.6928 - accuracy: 0.5147\n",
      "Epoch 12/15\n",
      "1239/1239 [==============================] - 25s 20ms/step - loss: 0.6927 - accuracy: 0.5163\n",
      "Epoch 13/15\n",
      "1239/1239 [==============================] - 25s 20ms/step - loss: 0.6929 - accuracy: 0.5123\n",
      "Epoch 14/15\n",
      "1239/1239 [==============================] - 25s 20ms/step - loss: 0.6928 - accuracy: 0.5150\n",
      "Epoch 15/15\n",
      "1239/1239 [==============================] - 25s 20ms/step - loss: 0.6922 - accuracy: 0.5222\n"
     ]
    },
    {
     "data": {
      "text/plain": [
       "<tensorflow.python.keras.callbacks.History at 0x7f854c621190>"
      ]
     },
     "execution_count": 140,
     "metadata": {},
     "output_type": "execute_result"
    }
   ],
   "source": [
    "model.fit(x_train_reshaped, y_train_reshaped, epochs = 15, batch_size = 32, verbose = 1)"
   ]
  },
  {
   "cell_type": "code",
   "execution_count": 141,
   "metadata": {},
   "outputs": [
    {
     "name": "stdout",
     "output_type": "stream",
     "text": [
      "x_test  (8987, 20)\n",
      "y_test  (8987,)\n"
     ]
    }
   ],
   "source": [
    "x_test_reshaped = []\n",
    "y_test_reshaped = []\n",
    "y_test_binary = y_test.apply(lambda x : change_label(x))\n",
    "y_test_binary.reset_index(drop = True, inplace = True)\n",
    "for i in range(20, len(x_test)):\n",
    "    x_test_reshaped.append(x_test_scaled[i - 19: i + 1, 0])\n",
    "    y_test_reshaped.append(y_test_binary[i])\n",
    "x_test_reshaped = np.array(x_test_reshaped)\n",
    "y_test_reshaped = np.array(y_test_reshaped)\n",
    "print(\"x_test \", x_test_reshaped.shape)\n",
    "print(\"y_test \", y_test_reshaped.shape)"
   ]
  },
  {
   "cell_type": "code",
   "execution_count": 142,
   "metadata": {},
   "outputs": [],
   "source": [
    "x_test_reshaped = np.reshape(x_test_reshaped, (x_test_reshaped.shape[0], x_test_reshaped.shape[1], 1))"
   ]
  },
  {
   "cell_type": "code",
   "execution_count": 143,
   "metadata": {},
   "outputs": [],
   "source": [
    "predictions = model.predict(x_test_reshaped)"
   ]
  },
  {
   "cell_type": "code",
   "execution_count": 144,
   "metadata": {},
   "outputs": [],
   "source": [
    "predictions_label = np.where(predictions > 0.5, 1, 0)"
   ]
  },
  {
   "cell_type": "code",
   "execution_count": 145,
   "metadata": {},
   "outputs": [
    {
     "data": {
      "text/plain": [
       "0.5195282074107044"
      ]
     },
     "execution_count": 145,
     "metadata": {},
     "output_type": "execute_result"
    }
   ],
   "source": [
    "accuracy_score(y_test_reshaped, predictions_label)"
   ]
  },
  {
   "cell_type": "markdown",
   "metadata": {},
   "source": [
    "# Attempt to predict price, transforming to regression problem"
   ]
  },
  {
   "cell_type": "code",
   "execution_count": 99,
   "metadata": {},
   "outputs": [
    {
     "name": "stdout",
     "output_type": "stream",
     "text": [
      "x_train  (39628, 20)\n",
      "y_train  (39628,)\n"
     ]
    }
   ],
   "source": [
    "x_train_reshaped = []\n",
    "y_train_reshaped = []\n",
    "for i in range(20, len(x_train)):\n",
    "    x_train_reshaped.append(x_train_scaled[i - 20: i, 0])\n",
    "    y_train_reshaped.append(x_train_scaled[i, 0])\n",
    "x_train_reshaped = np.array(x_train_reshaped)\n",
    "y_train_reshaped = np.array(y_train_reshaped)\n",
    "print(\"x_train \", x_train_reshaped.shape)\n",
    "print(\"y_train \", y_train_reshaped.shape)"
   ]
  },
  {
   "cell_type": "code",
   "execution_count": 103,
   "metadata": {},
   "outputs": [],
   "source": [
    "x_train_reshaped = np.reshape(x_train_reshaped, (x_train_reshaped.shape[0], x_train_reshaped.shape[1], 1))"
   ]
  },
  {
   "cell_type": "code",
   "execution_count": 104,
   "metadata": {},
   "outputs": [],
   "source": [
    "model = Sequential()\n",
    "model.add(LSTM(units = 100, activation = \"tanh\", return_sequences = True, input_shape = (x_train_reshaped.shape[1], 1)))\n",
    "model.add(Dropout(0.2))\n",
    "model.add(LSTM(units = 50, activation = \"tanh\", return_sequences = True))\n",
    "model.add(Dropout(0.2))\n",
    "model.add(LSTM(units = 25, activation = \"tanh\"))\n",
    "model.add(Dropout(0.2))\n",
    "model.add(Dense(units = 1))\n"
   ]
  },
  {
   "cell_type": "code",
   "execution_count": 105,
   "metadata": {},
   "outputs": [],
   "source": [
    "model.compile(optimizer = \"adam\", loss = \"mse\")"
   ]
  },
  {
   "cell_type": "code",
   "execution_count": 106,
   "metadata": {},
   "outputs": [
    {
     "name": "stdout",
     "output_type": "stream",
     "text": [
      "Epoch 1/25\n",
      "1239/1239 [==============================] - 30s 21ms/step - loss: 0.0081\n",
      "Epoch 2/25\n",
      "1239/1239 [==============================] - 26s 21ms/step - loss: 0.0018\n",
      "Epoch 3/25\n",
      "1239/1239 [==============================] - 26s 21ms/step - loss: 0.0012\n",
      "Epoch 4/25\n",
      "1239/1239 [==============================] - 26s 21ms/step - loss: 9.7148e-04\n",
      "Epoch 5/25\n",
      "1239/1239 [==============================] - 27s 22ms/step - loss: 0.0010\n",
      "Epoch 6/25\n",
      "1239/1239 [==============================] - 25s 21ms/step - loss: 9.4463e-04\n",
      "Epoch 7/25\n",
      "1239/1239 [==============================] - 25s 21ms/step - loss: 9.5801e-04\n",
      "Epoch 8/25\n",
      "1239/1239 [==============================] - 26s 21ms/step - loss: 9.7350e-04\n",
      "Epoch 9/25\n",
      "1239/1239 [==============================] - 25s 20ms/step - loss: 9.3536e-04\n",
      "Epoch 10/25\n",
      "1239/1239 [==============================] - 25s 20ms/step - loss: 9.3303e-04\n",
      "Epoch 11/25\n",
      "1239/1239 [==============================] - 25s 20ms/step - loss: 9.4472e-04\n",
      "Epoch 12/25\n",
      "1239/1239 [==============================] - 25s 20ms/step - loss: 9.2813e-04\n",
      "Epoch 13/25\n",
      "1239/1239 [==============================] - 25s 20ms/step - loss: 9.0522e-04\n",
      "Epoch 14/25\n",
      "1239/1239 [==============================] - 25s 20ms/step - loss: 8.9168e-04\n",
      "Epoch 15/25\n",
      "1239/1239 [==============================] - 25s 20ms/step - loss: 9.0320e-04\n",
      "Epoch 16/25\n",
      "1239/1239 [==============================] - 26s 21ms/step - loss: 9.2049e-04\n",
      "Epoch 17/25\n",
      "1239/1239 [==============================] - 25s 20ms/step - loss: 8.9542e-04\n",
      "Epoch 18/25\n",
      "1239/1239 [==============================] - 25s 21ms/step - loss: 8.9365e-04\n",
      "Epoch 19/25\n",
      "1239/1239 [==============================] - 26s 21ms/step - loss: 8.8169e-04\n",
      "Epoch 20/25\n",
      "1239/1239 [==============================] - 25s 20ms/step - loss: 8.9785e-04\n",
      "Epoch 21/25\n",
      "1239/1239 [==============================] - 25s 20ms/step - loss: 8.7250e-04\n",
      "Epoch 22/25\n",
      "1239/1239 [==============================] - 25s 20ms/step - loss: 8.7519e-04\n",
      "Epoch 23/25\n",
      "1239/1239 [==============================] - 25s 20ms/step - loss: 8.8089e-04\n",
      "Epoch 24/25\n",
      "1239/1239 [==============================] - 26s 21ms/step - loss: 8.8464e-04\n",
      "Epoch 25/25\n",
      "1239/1239 [==============================] - 26s 21ms/step - loss: 8.3617e-04\n"
     ]
    },
    {
     "data": {
      "text/plain": [
       "<tensorflow.python.keras.callbacks.History at 0x7f857b26e7f0>"
      ]
     },
     "execution_count": 106,
     "metadata": {},
     "output_type": "execute_result"
    }
   ],
   "source": [
    "model.fit(x_train_reshaped, y_train_reshaped, epochs = 25, batch_size = 32, verbose = 1)"
   ]
  },
  {
   "cell_type": "code",
   "execution_count": 107,
   "metadata": {},
   "outputs": [
    {
     "name": "stdout",
     "output_type": "stream",
     "text": [
      "x_test  (8987, 20)\n",
      "y_test  (8987,)\n"
     ]
    }
   ],
   "source": [
    "x_test_reshaped = []\n",
    "y_test_reshaped = []\n",
    "for i in range(20, len(x_test)):\n",
    "    x_test_reshaped.append(x_test_scaled[i - 20: i, 0])\n",
    "    y_test_reshaped.append(x_test_scaled[i, 0])\n",
    "x_test_reshaped = np.array(x_test_reshaped)\n",
    "y_test_reshaped = np.array(y_test_reshaped)\n",
    "print(\"x_test \", x_test_reshaped.shape)\n",
    "print(\"y_test \", y_test_reshaped.shape)"
   ]
  },
  {
   "cell_type": "code",
   "execution_count": 109,
   "metadata": {},
   "outputs": [],
   "source": [
    "x_test_reshaped = np.reshape(x_test_reshaped, (x_test_reshaped.shape[0], x_test_reshaped.shape[1], 1))"
   ]
  },
  {
   "cell_type": "code",
   "execution_count": 110,
   "metadata": {},
   "outputs": [],
   "source": [
    "predictions = model.predict(x_test_reshaped)"
   ]
  },
  {
   "cell_type": "code",
   "execution_count": 114,
   "metadata": {},
   "outputs": [],
   "source": [
    "y_test_reshaped = scaler.inverse_transform(y_test_reshaped.reshape(-1,1))"
   ]
  },
  {
   "cell_type": "code",
   "execution_count": 116,
   "metadata": {},
   "outputs": [],
   "source": [
    "predictions = scaler.inverse_transform(predictions.reshape(-1,1))"
   ]
  },
  {
   "cell_type": "code",
   "execution_count": 117,
   "metadata": {},
   "outputs": [],
   "source": [
    "rmse = np.sqrt(mean_squared_error(y_test_reshaped, predictions))"
   ]
  },
  {
   "cell_type": "code",
   "execution_count": 118,
   "metadata": {},
   "outputs": [
    {
     "data": {
      "text/plain": [
       "1.1684769000492001"
      ]
     },
     "execution_count": 118,
     "metadata": {},
     "output_type": "execute_result"
    }
   ],
   "source": [
    "rmse"
   ]
  },
  {
   "cell_type": "code",
   "execution_count": 123,
   "metadata": {},
   "outputs": [
    {
     "data": {
      "text/plain": [
       "<matplotlib.legend.Legend at 0x7f858968ba30>"
      ]
     },
     "execution_count": 123,
     "metadata": {},
     "output_type": "execute_result"
    },
    {
     "data": {
      "image/png": "[encoded data removed]",
      "text/plain": [
       "<Figure size 1440x720 with 1 Axes>"
      ]
     },
     "metadata": {
      "needs_background": "light"
     },
     "output_type": "display_data"
    }
   ],
   "source": [
    "fig, ax = plt.subplots(1,1,figsize = (20, 10))\n",
    "plt.plot(y_test_reshaped, color = \"blue\", label = \"real IBM stock price\")\n",
    "plt.plot(predictions, color = \"red\", label = \"predicted IBM stock price\")\n",
    "plt.legend()"
   ]
  },
  {
   "cell_type": "code",
   "execution_count": 127,
   "metadata": {},
   "outputs": [
    {
     "data": {
      "text/plain": [
       "<matplotlib.legend.Legend at 0x7f8589a18520>"
      ]
     },
     "execution_count": 127,
     "metadata": {},
     "output_type": "execute_result"
    },
    {
     "data": {
      "image/png": "[encoded data removed]",
      "text/plain": [
       "<Figure size 1440x720 with 1 Axes>"
      ]
     },
     "metadata": {
      "needs_background": "light"
     },
     "output_type": "display_data"
    }
   ],
   "source": [
    "import matplotlib.pyplot as plt \n",
    "indices = np.arange(0, 60)\n",
    "fig, ax = plt.subplots(1,1,figsize = (20, 10))\n",
    "plt.plot(y_test_reshaped[:60], color = \"blue\", label = \"real IBM stock price\")\n",
    "plt.scatter(indices, y_test_reshaped[:60], color = \"blue\")\n",
    "plt.plot(predictions[:60], color = \"red\", label = \"predicted IBM stock price\")\n",
    "plt.scatter(indices, predictions[:60], color = \"red\")\n",
    "plt.legend()"
   ]
  },
  {
   "cell_type": "markdown",
   "metadata": {},
   "source": [
    "# look for literature which suggests the accuracy is ~50%"
   ]
  },
  {
   "cell_type": "markdown",
   "metadata": {},
   "source": [
    "# utilizing other indicators besides opening price may affect accuracy "
   ]
  },
  {
   "cell_type": "code",
   "execution_count": null,
   "metadata": {},
   "outputs": [],
   "source": []
  }
 ],
 "metadata": {
  "kernelspec": {
   "display_name": "Python 3",
   "language": "python",
   "name": "python3"
  },
  "language_info": {
   "codemirror_mode": {
    "name": "ipython",
    "version": 3
   },
   "file_extension": ".py",
   "mimetype": "text/x-python",
   "name": "python",
   "nbconvert_exporter": "python",
   "pygments_lexer": "ipython3",
   "version": "3.8.5"
  }
 },
 "nbformat": 4,
 "nbformat_minor": 4
}
